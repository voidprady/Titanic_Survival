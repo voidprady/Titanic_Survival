{
 "cells": [
  {
   "cell_type": "code",
   "execution_count": 25,
   "id": "d62253e9",
   "metadata": {},
   "outputs": [
    {
     "data": {
      "text/html": [
       "<div>\n",
       "<style scoped>\n",
       "    .dataframe tbody tr th:only-of-type {\n",
       "        vertical-align: middle;\n",
       "    }\n",
       "\n",
       "    .dataframe tbody tr th {\n",
       "        vertical-align: top;\n",
       "    }\n",
       "\n",
       "    .dataframe thead th {\n",
       "        text-align: right;\n",
       "    }\n",
       "</style>\n",
       "<table border=\"1\" class=\"dataframe\">\n",
       "  <thead>\n",
       "    <tr style=\"text-align: right;\">\n",
       "      <th></th>\n",
       "      <th>Survived</th>\n",
       "      <th>Pclass</th>\n",
       "      <th>Sex</th>\n",
       "      <th>Age</th>\n",
       "      <th>Fare</th>\n",
       "      <th>family_cnt</th>\n",
       "      <th>cabin_ind</th>\n",
       "    </tr>\n",
       "  </thead>\n",
       "  <tbody>\n",
       "    <tr>\n",
       "      <th>0</th>\n",
       "      <td>0</td>\n",
       "      <td>3</td>\n",
       "      <td>0</td>\n",
       "      <td>22.0</td>\n",
       "      <td>7.2500</td>\n",
       "      <td>1</td>\n",
       "      <td>0</td>\n",
       "    </tr>\n",
       "    <tr>\n",
       "      <th>1</th>\n",
       "      <td>1</td>\n",
       "      <td>1</td>\n",
       "      <td>1</td>\n",
       "      <td>38.0</td>\n",
       "      <td>71.2833</td>\n",
       "      <td>1</td>\n",
       "      <td>1</td>\n",
       "    </tr>\n",
       "    <tr>\n",
       "      <th>2</th>\n",
       "      <td>1</td>\n",
       "      <td>3</td>\n",
       "      <td>1</td>\n",
       "      <td>26.0</td>\n",
       "      <td>7.9250</td>\n",
       "      <td>0</td>\n",
       "      <td>0</td>\n",
       "    </tr>\n",
       "    <tr>\n",
       "      <th>3</th>\n",
       "      <td>1</td>\n",
       "      <td>1</td>\n",
       "      <td>1</td>\n",
       "      <td>35.0</td>\n",
       "      <td>53.1000</td>\n",
       "      <td>1</td>\n",
       "      <td>1</td>\n",
       "    </tr>\n",
       "    <tr>\n",
       "      <th>4</th>\n",
       "      <td>0</td>\n",
       "      <td>3</td>\n",
       "      <td>0</td>\n",
       "      <td>35.0</td>\n",
       "      <td>8.0500</td>\n",
       "      <td>0</td>\n",
       "      <td>0</td>\n",
       "    </tr>\n",
       "  </tbody>\n",
       "</table>\n",
       "</div>"
      ],
      "text/plain": [
       "   Survived  Pclass  Sex   Age     Fare  family_cnt  cabin_ind\n",
       "0         0       3    0  22.0   7.2500           1          0\n",
       "1         1       1    1  38.0  71.2833           1          1\n",
       "2         1       3    1  26.0   7.9250           0          0\n",
       "3         1       1    1  35.0  53.1000           1          1\n",
       "4         0       3    0  35.0   8.0500           0          0"
      ]
     },
     "execution_count": 25,
     "metadata": {},
     "output_type": "execute_result"
    }
   ],
   "source": [
    "import pandas as pd\n",
    "from sklearn.model_selection import train_test_split, cross_val_score, GridSearchCV\n",
    "from sklearn.linear_model import LogisticRegression\n",
    "from sklearn.ensemble import RandomForestClassifier\n",
    "from sklearn.metrics import accuracy_score, precision_score, recall_score\n",
    "\n",
    "titanic = pd.read_csv('titanic_cleaned_features.csv')\n",
    "titanic.head()"
   ]
  },
  {
   "cell_type": "code",
   "execution_count": 5,
   "id": "1173f855",
   "metadata": {},
   "outputs": [],
   "source": [
    "features = titanic.drop('Survived', axis=1)\n",
    "labels = titanic['Survived']\n",
    "X_train, X_test, Y_train, Y_test = train_test_split(features, labels, test_size=0.4, random_state=42)\n",
    "X_test, X_val, Y_test, Y_val = train_test_split(X_test, Y_test, test_size=0.5, random_state=42)"
   ]
  },
  {
   "cell_type": "code",
   "execution_count": 26,
   "id": "3d44e0e8",
   "metadata": {},
   "outputs": [
    {
     "name": "stdout",
     "output_type": "stream",
     "text": [
      "[0.81308411 0.81308411 0.80373832 0.79439252 0.82075472]\n",
      "[0.85981308 0.8317757  0.73831776 0.71962617 0.8490566 ]\n"
     ]
    }
   ],
   "source": [
    "rf = RandomForestClassifier()\n",
    "lr = LogisticRegression()\n",
    "scores = cross_val_score(rf, X_train, Y_train, cv=5)\n",
    "print(scores)\n",
    "scores2 = cross_val_score(lr, X_train, Y_train, cv=5)\n",
    "print(scores2)"
   ]
  },
  {
   "cell_type": "code",
   "execution_count": 30,
   "id": "bf3c103e",
   "metadata": {},
   "outputs": [
    {
     "name": "stdout",
     "output_type": "stream",
     "text": [
      "BEST PARAMS: {'max_depth': 10, 'n_estimators': 100}\n",
      "\n",
      "0.775 (+/-0.148) for {'max_depth': 2, 'n_estimators': 5}\n",
      "0.794 (+/-0.124) for {'max_depth': 2, 'n_estimators': 50}\n",
      "0.802 (+/-0.109) for {'max_depth': 2, 'n_estimators': 100}\n",
      "0.796 (+/-0.066) for {'max_depth': 10, 'n_estimators': 5}\n",
      "0.826 (+/-0.063) for {'max_depth': 10, 'n_estimators': 50}\n",
      "0.826 (+/-0.053) for {'max_depth': 10, 'n_estimators': 100}\n",
      "0.813 (+/-0.057) for {'max_depth': 20, 'n_estimators': 5}\n",
      "0.809 (+/-0.025) for {'max_depth': 20, 'n_estimators': 50}\n",
      "0.811 (+/-0.018) for {'max_depth': 20, 'n_estimators': 100}\n",
      "0.792 (+/-0.044) for {'max_depth': None, 'n_estimators': 5}\n",
      "0.801 (+/-0.022) for {'max_depth': None, 'n_estimators': 50}\n",
      "0.807 (+/-0.032) for {'max_depth': None, 'n_estimators': 100}\n"
     ]
    },
    {
     "name": "stderr",
     "output_type": "stream",
     "text": [
      "C:\\Users\\User\\anaconda3\\lib\\site-packages\\sklearn\\linear_model\\_logistic.py:763: ConvergenceWarning: lbfgs failed to converge (status=1):\n",
      "STOP: TOTAL NO. of ITERATIONS REACHED LIMIT.\n",
      "\n",
      "Increase the number of iterations (max_iter) or scale the data as shown in:\n",
      "    https://scikit-learn.org/stable/modules/preprocessing.html\n",
      "Please also refer to the documentation for alternative solver options:\n",
      "    https://scikit-learn.org/stable/modules/linear_model.html#logistic-regression\n",
      "  n_iter_i = _check_optimize_result(\n"
     ]
    },
    {
     "name": "stdout",
     "output_type": "stream",
     "text": [
      "BEST PARAMS: {'C': 1.0}\n",
      "\n",
      "0.794 (+/-0.116) for {'C': 100}\n",
      "0.794 (+/-0.116) for {'C': 10}\n",
      "0.8 (+/-0.118) for {'C': 1.0}\n",
      "0.777 (+/-0.134) for {'C': 0.1}\n",
      "0.708 (+/-0.098) for {'C': 0.01}\n"
     ]
    }
   ],
   "source": [
    "#parameter tuning would further improve these results\n",
    "def print_results(results):\n",
    "    print('BEST PARAMS: {}\\n'.format(results.best_params_))\n",
    "\n",
    "    means = results.cv_results_['mean_test_score']\n",
    "    stds = results.cv_results_['std_test_score']\n",
    "    for mean, std, params in zip(means, stds, results.cv_results_['params']):\n",
    "        print('{} (+/-{}) for {}'.format(round(mean, 3), round(std * 2, 3), params))\n",
    "\n",
    "parameters = {\n",
    "    'n_estimators': [5, 50, 100],\n",
    "    'max_depth': [2, 10, 20, None]\n",
    "}\n",
    "\n",
    "parameters2 = {\n",
    "    'C': [100, 10, 1.0, 0.1, 0.01]\n",
    "}\n",
    "cv = GridSearchCV(rf, parameters, cv=5)\n",
    "cv.fit(X_train, Y_train)\n",
    "print_results(cv)\n",
    "cv2 = GridSearchCV(lr, parameters2, cv=5)\n",
    "cv2.fit(X_train, Y_train)\n",
    "print_results(cv2)"
   ]
  },
  {
   "cell_type": "code",
   "execution_count": 18,
   "id": "d3aebd4b",
   "metadata": {},
   "outputs": [
    {
     "data": {
      "text/plain": [
       "RandomForestClassifier()"
      ]
     },
     "execution_count": 18,
     "metadata": {},
     "output_type": "execute_result"
    }
   ],
   "source": [
    "#Better results with RF classifier than LR Classifier\n",
    "#[82.4, 82, 81.7] are our candidate models for X_val and Y_val\n",
    "rf1 = RandomForestClassifier(n_estimators=5, max_depth=10)\n",
    "rf1.fit(X_train, Y_train)\n",
    "\n",
    "rf2 = RandomForestClassifier(n_estimators=100, max_depth=10)\n",
    "rf2.fit(X_train, Y_train)\n",
    "\n",
    "rf3 = RandomForestClassifier(n_estimators=100, max_depth=None)\n",
    "rf3.fit(X_train, Y_train)"
   ]
  },
  {
   "cell_type": "code",
   "execution_count": 22,
   "id": "74232ba4",
   "metadata": {},
   "outputs": [
    {
     "name": "stdout",
     "output_type": "stream",
     "text": [
      "MAX DEPTH: 10 / # OF EST: 5 -- A: 0.832 / P: 0.838 / R: 0.75\n",
      "MAX DEPTH: 10 / # OF EST: 100 -- A: 0.838 / P: 0.862 / R: 0.737\n",
      "MAX DEPTH: None / # OF EST: 100 -- A: 0.804 / P: 0.806 / R: 0.711\n"
     ]
    }
   ],
   "source": [
    "for mdl in [rf1, rf2, rf3]:\n",
    "    y_pred = mdl.predict(X_val)\n",
    "    accuracy = round(accuracy_score(Y_val, y_pred), 3)\n",
    "    precision = round(precision_score(Y_val, y_pred), 3)\n",
    "    recall = round(recall_score(Y_val, y_pred), 3)\n",
    "    print('MAX DEPTH: {} / # OF EST: {} -- A: {} / P: {} / R: {}'.format(mdl.max_depth,\n",
    "                                                                         mdl.n_estimators,\n",
    "                                                                         accuracy,\n",
    "                                                                         precision,\n",
    "                                                                         recall))"
   ]
  },
  {
   "cell_type": "code",
   "execution_count": 24,
   "id": "dc4a16d8",
   "metadata": {},
   "outputs": [
    {
     "name": "stdout",
     "output_type": "stream",
     "text": [
      "MAX DEPTH: 10 / # OF EST: 100 -- A: 0.798 / P: 0.754 / R: 0.662\n"
     ]
    }
   ],
   "source": [
    "#select model2 and pass test data \n",
    "y_pred = rf2.predict(X_test)\n",
    "accuracy = round(accuracy_score(Y_test, y_pred), 3)\n",
    "precision = round(precision_score(Y_test, y_pred), 3)\n",
    "recall = round(recall_score(Y_test, y_pred), 3)\n",
    "print('MAX DEPTH: {} / # OF EST: {} -- A: {} / P: {} / R: {}'.format(rf2.max_depth,\n",
    "                                                                     rf2.n_estimators,\n",
    "                                                                     accuracy,\n",
    "                                                                     precision,\n",
    "                                                                     recall))"
   ]
  }
 ],
 "metadata": {
  "kernelspec": {
   "display_name": "Python 3",
   "language": "python",
   "name": "python3"
  },
  "language_info": {
   "codemirror_mode": {
    "name": "ipython",
    "version": 3
   },
   "file_extension": ".py",
   "mimetype": "text/x-python",
   "name": "python",
   "nbconvert_exporter": "python",
   "pygments_lexer": "ipython3",
   "version": "3.8.8"
  }
 },
 "nbformat": 4,
 "nbformat_minor": 5
}
